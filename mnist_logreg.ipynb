{
 "cells": [
  {
   "cell_type": "code",
   "execution_count": 2,
   "metadata": {},
   "outputs": [],
   "source": [
    "#common packages we basically always need\n",
    "import numpy as np\n",
    "import matplotlib.pyplot as plt\n",
    "import scipy.io as sio\n",
    "from time import time\n"
   ]
  },
  {
   "cell_type": "code",
   "execution_count": 35,
   "metadata": {},
   "outputs": [
    {
     "name": "stdout",
     "output_type": "stream",
     "text": [
      "{'__header__': b'MATLAB 5.0 MAT-file Platform: posix, Created on: Wed Oct 18 19:00:09 2017', '__version__': '1.0', '__globals__': [], 'testX': array([[0, 0, 0, ..., 0, 0, 0],\n",
      "       [0, 0, 0, ..., 0, 0, 0],\n",
      "       [0, 0, 0, ..., 0, 0, 0],\n",
      "       ...,\n",
      "       [0, 0, 0, ..., 0, 0, 0],\n",
      "       [0, 0, 0, ..., 0, 0, 0],\n",
      "       [0, 0, 0, ..., 0, 0, 0]], dtype=uint8), 'testY': array([[7, 2, 1, ..., 4, 5, 6]], dtype=uint8), 'trainY': array([[5, 0, 4, ..., 5, 6, 8]], dtype=uint8), 'trainX': array([[0, 0, 0, ..., 0, 0, 0],\n",
      "       [0, 0, 0, ..., 0, 0, 0],\n",
      "       [0, 0, 0, ..., 0, 0, 0],\n",
      "       ...,\n",
      "       [0, 0, 0, ..., 0, 0, 0],\n",
      "       [0, 0, 0, ..., 0, 0, 0],\n",
      "       [0, 0, 0, ..., 0, 0, 0]], dtype=uint8)}\n"
     ]
    },
    {
     "data": {
      "image/png": "[encoded data removed]",
      "text/plain": [
       "<Figure size 432x288 with 9 Axes>"
      ]
     },
     "metadata": {
      "needs_background": "light"
     },
     "output_type": "display_data"
    }
   ],
   "source": [
    "#load the MNIST dataset with binary pixel values\n",
    "data = sio.loadmat('mnist.mat')\n",
    "print(data)\n",
    "\n",
    "\n",
    "\n",
    "Xtrain, Xtest = data['trainX'].astype(float), data['testX'].astype(float)\n",
    "ytrain, ytest = data['trainY'][0], data['testY'][0]\n",
    "\n",
    "#pull and plot some samples\n",
    "for k in range(9):\n",
    "    plot_data = Xtrain[k,:]\n",
    "    plot_data = np.reshape(plot_data,(28,28))\n",
    "    plot_label = ytrain[k]\n",
    "    plt.subplot(3,3,k+1)\n",
    "    plt.imshow(plot_data)\n",
    "    plt.title(plot_label)\n",
    "plt.tight_layout()"
   ]
  },
  {
   "cell_type": "code",
   "execution_count": 36,
   "metadata": {
    "scrolled": true
   },
   "outputs": [
    {
     "name": "stdout",
     "output_type": "stream",
     "text": [
      "{'__header__': b'MATLAB 5.0 MAT-file Platform: posix, Created on: Wed Oct 18 19:00:09 2017', '__version__': '1.0', '__globals__': [], 'testX': array([[0, 0, 0, ..., 0, 0, 0],\n",
      "       [0, 0, 0, ..., 0, 0, 0],\n",
      "       [0, 0, 0, ..., 0, 0, 0],\n",
      "       ...,\n",
      "       [0, 0, 0, ..., 0, 0, 0],\n",
      "       [0, 0, 0, ..., 0, 0, 0],\n",
      "       [0, 0, 0, ..., 0, 0, 0]], dtype=uint8), 'testY': array([[7, 2, 1, ..., 4, 5, 6]], dtype=uint8), 'trainY': array([[5, 0, 4, ..., 5, 6, 8]], dtype=uint8), 'trainX': array([[0, 0, 0, ..., 0, 0, 0],\n",
      "       [0, 0, 0, ..., 0, 0, 0],\n",
      "       [0, 0, 0, ..., 0, 0, 0],\n",
      "       ...,\n",
      "       [0, 0, 0, ..., 0, 0, 0],\n",
      "       [0, 0, 0, ..., 0, 0, 0],\n",
      "       [0, 0, 0, ..., 0, 0, 0]], dtype=uint8)}\n"
     ]
    }
   ],
   "source": [
    "#load the MNIST dataset with binary pixel values\n",
    "data = sio.loadmat('mnist.mat')\n",
    "print(data)\n",
    "\n",
    "\n",
    "select_train = np.logical_or(np.equal(ytrain,4),np.equal(ytrain,9))\n",
    "select_test = np.logical_or(np.equal(ytest,4),np.equal(ytest,9))\n",
    "Xtrain = Xtrain[select_train,:]\n",
    "Xtest = Xtest[select_test,:]\n",
    "ytrain = np.sign(np.equal(ytrain[select_train],4.)-.5)\n",
    "ytest = np.sign(np.equal(ytest[select_test],4.)-.5)\n",
    "\n",
    "\n",
    "m,n = Xtrain.shape\n",
    "mt = Xtest.shape[0]"
   ]
  },
  {
   "cell_type": "code",
   "execution_count": 37,
   "metadata": {},
   "outputs": [
    {
     "name": "stdout",
     "output_type": "stream",
     "text": [
      "Check number:  45.19215648734918 12343.17694760448\n"
     ]
    }
   ],
   "source": [
    "def getLossFunction(theta):\n",
    "    loss = 0\n",
    "    for i in range(m):\n",
    "        loss += -np.log(1/(1+np.e**(np.dot(np.dot(-ytrain[i],Xtrain[i].T),theta))))\n",
    "    final_loss = 1/m*loss\n",
    "    return final_loss\n",
    "\n",
    "def getGradient(theta):\n",
    "    indi_grad = 0\n",
    "    for i in range(m):\n",
    "        indi_grad += (1/(1+np.e**(np.dot(np.dot(-ytrain[i],Xtrain[i].T),theta))) -1) * np.dot(ytrain[i],Xtrain[i])\n",
    "    grad = 1/m * indi_grad\n",
    "    return grad\n",
    "\n",
    "# TEST SCRIPT. DO NOT MODIFY!\n",
    "theta = np.linspace(-.1,.1,n)\n",
    "print('Check number: ', getLossFunction(theta),np.sum(getGradient(theta)))\n"
   ]
  },
  {
   "cell_type": "code",
   "execution_count": 38,
   "metadata": {},
   "outputs": [
    {
     "data": {
      "text/plain": [
       "0.4932194876946258"
      ]
     },
     "execution_count": 38,
     "metadata": {},
     "output_type": "execute_result"
    }
   ],
   "source": [
    "#accuracy calculation\n",
    "y_pred = np.zeros(mt)\n",
    "for i in range(mt):\n",
    "    y_pred[i] = np.sign(np.dot(Xtest[i],theta))\n",
    "same_number = np.sum(y_pred == ytest)\n",
    "accuracy = same_number/mt\n",
    "accuracy"
   ]
  },
  {
   "cell_type": "code",
   "execution_count": 41,
   "metadata": {},
   "outputs": [
    {
     "data": {
      "text/plain": [
       "[<matplotlib.lines.Line2D at 0x1bb957f3970>]"
      ]
     },
     "execution_count": 41,
     "metadata": {},
     "output_type": "execute_result"
    },
    {
     "data": {
      "image/png": "[encoded data removed]",
      "text/plain": [
       "<Figure size 432x288 with 1 Axes>"
      ]
     },
     "metadata": {
      "needs_background": "light"
     },
     "output_type": "display_data"
    }
   ],
   "source": [
    "#gradient descent\n",
    "inter = np.linspace(1,1501,1500)\n",
    "miscl = np.zeros(1500)\n",
    "Tloss = np.zeros(1500)\n",
    "a = 10**-6\n",
    "theta = np.linspace(-.1,.1,n)\n",
    "for i in range(len(inter)):\n",
    "    theta_new =  theta - a*getGradient(theta)\n",
    "    theta = theta_new\n",
    "    for j in range(mt):\n",
    "        y_pred[j] = np.sign(np.dot(Xtest[j],theta))\n",
    "    same_number = np.sum(y_pred == ytest)\n",
    "    miscl[i] = 1- same_number/mt\n",
    "    Tloss[i] = getLossFunction(theta)\n",
    "\n",
    "plt.plot(inter, Tloss, label = 'train loss')\n",
    "plt.plot(inter, miscl, label = 'misclassification')"
   ]
  },
  {
   "cell_type": "code",
   "execution_count": 48,
   "metadata": {},
   "outputs": [
    {
     "data": {
      "image/png": "[encoded data removed]",
      "text/plain": [
       "<Figure size 432x288 with 2 Axes>"
      ]
     },
     "metadata": {
      "needs_background": "light"
     },
     "output_type": "display_data"
    }
   ],
   "source": [
    "fig, axs = plt.subplots(2)\n",
    "axs[0].plot(inter, Tloss)\n",
    "axs[0].set_title('train loss')\n",
    "axs[1].plot(inter, miscl, label = 'misclassification')\n",
    "axs[1].set_title('misclassification')\n",
    "fig.subplots_adjust(hspace=0.5)"
   ]
  },
  {
   "cell_type": "code",
   "execution_count": 49,
   "metadata": {},
   "outputs": [
    {
     "name": "stdout",
     "output_type": "stream",
     "text": [
      "final train loss is:  7.402435856889008  and final miscallsification is  0.26469110999497736\n"
     ]
    }
   ],
   "source": [
    "print('final train loss is: ', Tloss[-1],' and final miscallsification is ', miscl[-1])"
   ]
  },
  {
   "cell_type": "code",
   "execution_count": 5,
   "metadata": {},
   "outputs": [
    {
     "name": "stdout",
     "output_type": "stream",
     "text": [
      "Check number:  0.0\n"
     ]
    }
   ],
   "source": [
    "\n",
    "    \n",
    "def getStochGradient(theta, minibatch):\n",
    "    return theta\n",
    "    \n",
    "# TEST SCRIPT. DO NOT MODIFY!\n",
    "theta = np.linspace(-.1,.1,n)\n",
    "print('Check number: ',np.sum(getStochGradient(theta,[1,4,6,2])))\n"
   ]
  },
  {
   "cell_type": "code",
   "execution_count": null,
   "metadata": {},
   "outputs": [],
   "source": [
    "#you can use time() to measure runtime of things.\n",
    "#sample runtime code: \n",
    "\n",
    "def do_stuff_takes_nseconds(n):\n",
    "    wait(n)\n",
    "start = time()\n",
    "do_stuff_takes_nseconds(n)\n",
    "print(time()-start, ' seconds to run code')"
   ]
  }
 ],
 "metadata": {
  "kernelspec": {
   "display_name": "Python 3 (ipykernel)",
   "language": "python",
   "name": "python3"
  },
  "language_info": {
   "codemirror_mode": {
    "name": "ipython",
    "version": 3
   },
   "file_extension": ".py",
   "mimetype": "text/x-python",
   "name": "python",
   "nbconvert_exporter": "python",
   "pygments_lexer": "ipython3",
   "version": "3.10.7"
  }
 },
 "nbformat": 4,
 "nbformat_minor": 4
}
